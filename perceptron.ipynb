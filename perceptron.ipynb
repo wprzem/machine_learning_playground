{
 "cells": [
  {
   "cell_type": "markdown",
   "id": "91329075",
   "metadata": {},
   "source": [
    "https://colab.research.google.com/github/wprzem/machine_learning_playground/blob/master/perceptron.inpynb"
   ]
  },
  {
   "cell_type": "code",
   "execution_count": null,
   "id": "a5f0c621",
   "metadata": {},
   "outputs": [],
   "source": [
    "import numpy as np\n",
    "import pandas as pd"
   ]
  },
  {
   "cell_type": "code",
   "execution_count": null,
   "id": "7f645ab8",
   "metadata": {},
   "outputs": [],
   "source": [
    "class Perceptron:\n",
    "    def fit(self, x, y):\n",
    "        self.x = x\n",
    "        self.y = y\n",
    "        rgen = np.random.RandomState(1)\n",
    "        num_features = x.shape[1]\n",
    "        num_bias = 1\n",
    "        self.w = rgen.normal(loc=0.0, scale=0.01, size=(num_features + num_bias, 1))\n",
    "        \n",
    "    def train(self, learning_rate, num_iter):\n",
    "        for i in range(num_iter):\n",
    "            num_errors = 0\n",
    "            for inp, target in zip(self.x, self.y):\n",
    "                exp = np.expand_dims(inp, axis=0)\n",
    "                err = target - self.predict(exp)\n",
    "                if err:\n",
    "                    num_errors += 1\n",
    "                self.w[1:] += learning_rate * exp.T * err\n",
    "                self.w[0] += learning_rate * err.flatten()\n",
    "            print(f'iter: {i}, num_errors: {num_errors}')\n",
    "            \n",
    "    def predict(self, x):\n",
    "        num_samples = x.shape[0]\n",
    "        bias_input = np.ones(shape=(num_samples, 1))\n",
    "        x_with_bias = np.concatenate((bias_input, x), axis=1)\n",
    "        inp = np.dot(x_with_bias, self.w)\n",
    "        return np.where(inp >= 0, 1, -1)\n",
    "        "
   ]
  },
  {
   "cell_type": "code",
   "execution_count": null,
   "id": "ad7f8a91",
   "metadata": {},
   "outputs": [],
   "source": [
    "df = pd.read_csv(\n",
    "    'https://archive.ics.uci.edu/ml/machine-learning-databases/iris/iris.data',\n",
    "    header=None)"
   ]
  },
  {
   "cell_type": "code",
   "execution_count": null,
   "id": "385e67a3",
   "metadata": {
    "scrolled": true
   },
   "outputs": [],
   "source": [
    "y = df.iloc[:100, -1]\n",
    "x = df.iloc[:100, [0,2]]\n",
    "y.replace('Iris-setosa', -1, inplace=True)\n",
    "y.replace('Iris-versicolor', 1, inplace=True)\n",
    "\n",
    "p = Perceptron()\n",
    "p.fit(x.values, y.values)\n",
    "p.train(learning_rate=0.1, num_iter=10)\n",
    "\n",
    "compare = pd.DataFrame()\n",
    "compare['target'] = y\n",
    "compare['result'] = p.predict(x.values)\n",
    "print(compare)"
   ]
  }
 ],
 "metadata": {
  "celltoolbar": "Raw Cell Format",
  "kernelspec": {
   "display_name": "Python 3 (ipykernel)",
   "language": "python",
   "name": "python3"
  },
  "language_info": {
   "codemirror_mode": {
    "name": "ipython",
    "version": 3
   },
   "file_extension": ".py",
   "mimetype": "text/x-python",
   "name": "python",
   "nbconvert_exporter": "python",
   "pygments_lexer": "ipython3",
   "version": "3.9.7"
  }
 },
 "nbformat": 4,
 "nbformat_minor": 5
}
